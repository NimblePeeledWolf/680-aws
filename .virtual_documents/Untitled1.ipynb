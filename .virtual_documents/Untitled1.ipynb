import sagemaker
from sagemaker import get_execution_role


sagemaker_session = sagemaker.Session()


role = get_execution_role()


print("SageMaker Role", role)


train_input = sagemaker.Session().upload_data("wine_quality_data.csv")


train_input


from sagemaker.sklearn.estimator import SKLearn
script_path='wine_model.py'

sklearn = SKLearn(
    entry_point=script_path,
    role=role,
    instance_type='ml.m4.large',
    framework_version='0.20.0',  
    py_version='py3',
    sagemaker_session=sagemaker_session
)



sklearn.fit({'train':train_input})



